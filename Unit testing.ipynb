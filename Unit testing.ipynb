{
 "cells": [
  {
   "cell_type": "markdown",
   "metadata": {},
   "source": [
    "### Unit testing in Python"
   ]
  },
  {
   "cell_type": "markdown",
   "metadata": {},
   "source": [
    "Unit testing in Python involves testing individual units or components of your code, like functions or methods, to ensure that they work as expected. The **unittest** framework, which comes with Python, is commonly used for this purpose."
   ]
  },
  {
   "cell_type": "markdown",
   "metadata": {},
   "source": [
    "Unit Test for a Function\n",
    "\n",
    "Let’s assume you have a function `add(a, b)` that returns the sum of two numbers."
   ]
  },
  {
   "cell_type": "code",
   "execution_count": 2,
   "metadata": {},
   "outputs": [],
   "source": [
    "def add(a,b):\n",
    "    num = a+b\n",
    "    return num"
   ]
  },
  {
   "cell_type": "code",
   "execution_count": 3,
   "metadata": {},
   "outputs": [
    {
     "data": {
      "text/plain": [
       "10"
      ]
     },
     "execution_count": 3,
     "metadata": {},
     "output_type": "execute_result"
    }
   ],
   "source": [
    "add(7,3)"
   ]
  },
  {
   "cell_type": "code",
   "execution_count": 4,
   "metadata": {},
   "outputs": [],
   "source": [
    "import unittest\n",
    "\n",
    "class TestAddFunction(unittest.TestCase):\n",
    "\n",
    "    def test_add(self):\n",
    "        self.assertEqual(add(1,2),3)\n",
    "        self.assertEqual(add(-1,1),0)\n",
    "        self.assertEqual(add(0,0),0)"
   ]
  },
  {
   "cell_type": "code",
   "execution_count": 5,
   "metadata": {},
   "outputs": [],
   "source": [
    "def divide(a,b):\n",
    "    if b==0:\n",
    "        raise ValueError(\"Cannot divide by zero\")\n",
    "    return a/b"
   ]
  },
  {
   "cell_type": "code",
   "execution_count": 6,
   "metadata": {},
   "outputs": [
    {
     "data": {
      "text/plain": [
       "2.5"
      ]
     },
     "execution_count": 6,
     "metadata": {},
     "output_type": "execute_result"
    }
   ],
   "source": [
    "divide(5,2)"
   ]
  },
  {
   "cell_type": "code",
   "execution_count": 7,
   "metadata": {},
   "outputs": [],
   "source": [
    "class TestDivideFunction(unittest.TestCase):\n",
    "    def test_divide_by_zero(self):\n",
    "        with self.assertRaises(ValueError):\n",
    "            divide(10,0)\n",
    "    def test_divide(self):\n",
    "        self.assertEqual(divide(10,2),5)\n",
    "        self.assertEqual(divide(-6,3),-2)"
   ]
  },
  {
   "cell_type": "markdown",
   "metadata": {},
   "source": [
    "### Common Assertion Methods in `unittest`\n",
    "- `assertEqual(a, b)`: Checks if `a == b`.\n",
    "- `assertNotEqual(a, b)`: Checks if `a != b`.\n",
    "- `assertTrue(x)`: Checks if `x` is `True`.\n",
    "- `assertFalse(x)`: Checks if `x` is `False`.\n",
    "- `assertRaises(exception, callable, *args, **kwargs)`: Checks if the exception is raised when calling the function."
   ]
  }
 ],
 "metadata": {
  "kernelspec": {
   "display_name": "Python 3",
   "language": "python",
   "name": "python3"
  },
  "language_info": {
   "codemirror_mode": {
    "name": "ipython",
    "version": 3
   },
   "file_extension": ".py",
   "mimetype": "text/x-python",
   "name": "python",
   "nbconvert_exporter": "python",
   "pygments_lexer": "ipython3",
   "version": "3.10.9"
  }
 },
 "nbformat": 4,
 "nbformat_minor": 2
}
